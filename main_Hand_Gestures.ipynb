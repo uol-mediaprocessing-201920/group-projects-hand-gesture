{
  "nbformat": 4,
  "nbformat_minor": 0,
  "metadata": {
    "colab": {
      "name": "main_Hand_Gestures.ipynb",
      "provenance": [],
      "collapsed_sections": [],
      "include_colab_link": true
    },
    "kernelspec": {
      "name": "python3",
      "display_name": "Python 3"
    }
  },
  "cells": [
    {
      "cell_type": "markdown",
      "metadata": {
        "id": "view-in-github",
        "colab_type": "text"
      },
      "source": [
        "<a href=\"https://colab.research.google.com/github/uol-mediaprocessing/group-projects-hand-gesture/blob/master/main_Hand_Gestures.ipynb\" target=\"_parent\"><img src=\"https://colab.research.google.com/assets/colab-badge.svg\" alt=\"Open In Colab\"/></a>"
      ]
    },
    {
      "cell_type": "markdown",
      "metadata": {
        "id": "7CcGMkBf4FwD",
        "colab_type": "text"
      },
      "source": [
        "# Hand Gesture Recognition\n",
        "\n",
        "## What is gesture recognition?\n",
        "\n",
        "It's a topic in computer science with the goal of interpreting human gestures via mathematical algorithms. Hand gestures recognition as an typical form of the recognition is used to control or interact with devices without physically touching them. There are several ways to do this, but we focus on processing images and videos using deep learning.\n",
        "\n",
        "\n",
        "Some typical hand gestures are:\n",
        "![Some typical hand gestures.](https://www.fibaro.com/en/wp-content/uploads/sites/3/2017/02/gestures.jpg)\n",
        "\n",
        "\n",
        "## Our Goals\n",
        "\n",
        "1. Can distinguish hand from background.\n",
        "2. Detect the position of the fingers.\n",
        "3. Detect twisted hands (static gestures).\n",
        "4. Detection of patterns/gestures.\n",
        "5. Assign actions to recognized gestures.\n",
        "6. Detect static getures from live images.\n",
        "7. Recognize moving gestures from streams of iamges.\n",
        "\n"
      ]
    }
  ]
}