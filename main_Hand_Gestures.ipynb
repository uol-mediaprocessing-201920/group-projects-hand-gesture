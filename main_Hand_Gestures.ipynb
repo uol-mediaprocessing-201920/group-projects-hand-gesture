{
  "nbformat": 4,
  "nbformat_minor": 0,
  "metadata": {
    "colab": {
      "name": "main_Hand_Gestures.ipynb",
      "provenance": [],
      "include_colab_link": true
    },
    "kernelspec": {
      "name": "python3",
      "display_name": "Python 3"
    }
  },
  "cells": [
    {
      "cell_type": "markdown",
      "metadata": {
        "id": "view-in-github",
        "colab_type": "text"
      },
      "source": [
        "<a href=\"https://colab.research.google.com/github/uol-mediaprocessing/group-projects-hand-gesture/blob/master/main_Hand_Gestures.ipynb\" target=\"_parent\"><img src=\"https://colab.research.google.com/assets/colab-badge.svg\" alt=\"Open In Colab\"/></a>"
      ]
    },
    {
      "cell_type": "markdown",
      "metadata": {
        "id": "7CcGMkBf4FwD",
        "colab_type": "text"
      },
      "source": [
        "# Gestenerkennung\n",
        "\n",
        "# Ziele\n",
        "\n",
        "1. Hand vom Hintergrund unterscheiden können.\n",
        "2. Position der Finger erkennen (festgelegte Drehung der Handfläche).\n",
        "3. Gedrehte Hände erkennen (statisch).\n",
        "4. Erkennung von Mustern/Gesten.\n",
        "5. Zuordnung von Aktionen zu erkannten Gesten.\n",
        "6. Statische Gesten aus Live-Bildern erkennen (Webcam).\n",
        "7. Bewegte Gesten aus Streams von Bildern erkennen (Webcam).\n"
      ]
    },
    {
      "cell_type": "code",
      "metadata": {
        "id": "hlA7Bld-4KLE",
        "colab_type": "code",
        "colab": {}
      },
      "source": [
        ""
      ],
      "execution_count": 0,
      "outputs": []
    }
  ]
}